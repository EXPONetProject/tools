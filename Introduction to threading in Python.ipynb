{
 "cells": [
  {
   "cell_type": "markdown",
   "metadata": {},
   "source": [
    "# Introduction to threading in Python "
   ]
  },
  {
   "cell_type": "markdown",
   "metadata": {},
   "source": [
    "In this tutorial we will introduce the concept of threading, why it is useful and worth doing, and demonstrate how to thread our [Reddit comment scraper](Scraping reddit using praw.ipynb)"
   ]
  },
  {
   "cell_type": "markdown",
   "metadata": {},
   "source": [
    "### What is threading? "
   ]
  },
  {
   "cell_type": "markdown",
   "metadata": {},
   "source": [
    "A thread is a subset of a computer process. There can be multiple threads within a process running simultaneously and sharing memory. \n",
    "\n",
    "If we write a python script, assuming there is no multiprocessing element to the script, then executing the script initiates a single process. However within the script multiple threads may be initiated which run in parallel and share the same executable code (the script)."
   ]
  },
  {
   "cell_type": "markdown",
   "metadata": {},
   "source": [
    "### Why use threading? "
   ]
  },
  {
   "cell_type": "markdown",
   "metadata": {},
   "source": [
    "If you have a process that repeats a task many times, while the task itself may not be intensive, the run time of the process can become long due to the fact that the task is repreted.\n",
    "\n",
    "For example, consider a function that takes a variable `x` and doubles it:\n",
    "\n",
    "```python\n",
    "def double(x):\n",
    "    return 2*x\n",
    "```\n",
    "\n",
    "Now say we want to double all numbers from `1` to `100`. The natural thing to do is to call this function 100 times using a loop:\n",
    "\n",
    "```python\n",
    "for x in range(1,101):\n",
    "    y = double(x)\n",
    "    print(y)\n",
    "```"
   ]
  },
  {
   "cell_type": "markdown",
   "metadata": {},
   "source": [
    "This loop will not actually take a long time to execute as the process of doubling a number is simple. However, if we were able to call the function `double` 100 times simultaneously, the run time would naturally decrease\\*\n",
    "\n",
    "\\* *Sadly not by a factor of 100*"
   ]
  },
  {
   "cell_type": "markdown",
   "metadata": {},
   "source": [
    "In order to call the function 100 times simultaneously, we simply need 100 threads, each calling the function `double` with a different value of `x`."
   ]
  },
  {
   "cell_type": "markdown",
   "metadata": {},
   "source": [
    "### Simple example "
   ]
  },
  {
   "cell_type": "markdown",
   "metadata": {},
   "source": [
    "Lets use 100 threads to speed up the example above. We will use the `threading` and `queue` libraries in Python 3.\n",
    "\n",
    "Here is the example code:"
   ]
  },
  {
   "cell_type": "markdown",
   "metadata": {},
   "source": [
    "```python\n",
    "\n",
    "import threading\n",
    "import queue\n",
    "        \n",
    "q = queue.Queue()\n",
    "threads=[]\n",
    "\n",
    "for i in range(100):\n",
    "    t = threading.Thread(target=threader)\n",
    "    t.start()\n",
    "    threads.append(t)\n",
    "\n",
    "for x in range(1,101):\n",
    "    q.put(x)\n",
    "    \n",
    "q.join()\n",
    "\n",
    "for i in range(100):\n",
    "    q.put(None)\n",
    "    \n",
    "for t in threads:\n",
    "    t.join()\n",
    "    \n",
    "```"
   ]
  },
  {
   "cell_type": "markdown",
   "metadata": {},
   "source": [
    "So what is going on?\n",
    "\n",
    "After importing the required libraries, we initialise a `Queue` called `q`:\n",
    "\n",
    "```python\n",
    "q = queue.Queue()\n",
    "```\n",
    "\n",
    "We then use a for loop to initialise 100 threads, saving each to a list `threads`:\n",
    "\n",
    "```python\n",
    "threads=[]\n",
    "\n",
    "for i in range(100):\n",
    "    t = threading.Thread(target=threader)\n",
    "    t.start()\n",
    "    threads.append(t)\n",
    "```\n",
    "Next we put all values of `x`, from 1 to 100 into the Queue:\n",
    "\n",
    "```python\n",
    "for x in range(1,101):\n",
    "    q.put(x)\n",
    "```\n",
    "\n",
    "We tell the process to wait until all items in the Queue have been processed:\n",
    "```python\n",
    "q.join()\n",
    "```\n",
    "\n",
    "Finally, we enusure that the Queue contains only `None` values (reason explained below), and shut down all threads:\n",
    "```python\n",
    "for i in range(100):\n",
    "    q.put(None)\n",
    "    \n",
    "for t in threads:\n",
    "    t.join()\n",
    "```\n",
    "\n",
    "At this point, the process (or programme) will terminate.\n"
   ]
  },
  {
   "cell_type": "markdown",
   "metadata": {},
   "source": [
    "What is missing from the above is the point at which the variables `x` are doubled. When each thread is initialised, it is passed an `target` arguement, `threader`. \n",
    "\n",
    "`threader` is a function that each thread will call:"
   ]
  },
  {
   "cell_type": "markdown",
   "metadata": {},
   "source": [
    "```python\n",
    "def threader():\n",
    "    while True:\n",
    "        x = q.get()\n",
    "        if x is None:\n",
    "            break\n",
    "        y = double(x)\n",
    "        print(y)\n",
    "        q.task_done()       \n",
    "```"
   ]
  },
  {
   "cell_type": "markdown",
   "metadata": {},
   "source": [
    "This function takes a value of `x` from the Queue, `q.get()`. If `x` is `None` (ie. all values of `x` from 1 to 100 have already been doubled), the function will terminate and the thread can be terminated. If `x` is not `None`, `x` will be doubled and the outcome printed. \n",
    "\n",
    "The line `q.task_done()` corresponds to the thread telling the Queue that the processing of `x` is completed. Once `q.task_done()` has been called on all Queue items, `q.join()` will stop blocking the process and subsequent lines of code will be executed."
   ]
  },
  {
   "cell_type": "markdown",
   "metadata": {},
   "source": [
    "## Threading the Reddit comment scraper "
   ]
  },
  {
   "cell_type": "markdown",
   "metadata": {},
   "source": [
    "The use of threads in the above example does not have a large effect on runtime. Threading is more useful when the task repeated within the loop is time consuming. \n",
    "\n",
    "Lets look at the Reddit comment scraper:"
   ]
  },
  {
   "cell_type": "code",
   "execution_count": null,
   "metadata": {
    "collapsed": true
   },
   "outputs": [],
   "source": [
    "import praw\n",
    "import json \n",
    "\n",
    "def get_comments(submission):\n",
    "\n",
    "    comments=[]\n",
    "\n",
    "    submission.comments.replace_more(limit=None)\n",
    "    for comment in submission.comments.list():\n",
    "        data={}\n",
    "        data['body']=comment.body\n",
    "        data['id']=comment.fullname\n",
    "\n",
    "        try:\n",
    "            data['author']=comment.author.name\n",
    "\n",
    "        except AttributeError:\n",
    "            data['author']=comment.author\n",
    "\n",
    "        data['time']=comment.created_utc\n",
    "        data['parent']=comment.parent_id\n",
    "\n",
    "        comments.append(data)\n",
    "\n",
    "    return comments\n",
    "\n",
    "\n",
    "def get_metadata(submission):\n",
    "\n",
    "    thread={}\n",
    "    thread[\"title\"]=submission.title\n",
    "    thread[\"score\"]=submission.score\n",
    "    thread[\"id\"]=submission.id\n",
    "    thread[\"url\"]=submission.url\n",
    "    thread[\"comms_num\"]=submission.num_comments\n",
    "    thread[\"created\"]=submission.created\n",
    "    thread[\"body\"]=submission.selftext\n",
    "    \n",
    "    thread['posts']= get_comments(submission)\n",
    "\n",
    "    return thread\n",
    "\n",
    "\n",
    "\n",
    "with open('reddit_credentials.json') as fin:\n",
    "    \n",
    "    creds = json.load(fin)\n",
    "    \n",
    "\n",
    "reddit = praw.Reddit(user_agent='Comment Extraction (by /u/{0})'.format(creds['username']),\n",
    "                     client_id=creds['client_id'], client_secret=creds['client_secret'],\n",
    "                     username=creds['username'], password=creds['password'])\n",
    "\n",
    "\n",
    "subreddit = reddit.subreddit('AskReddit')\n",
    "\n",
    "with open('askreddit.json', 'w') as fout:\n",
    "    \n",
    "    for submission in subreddit.hot(limit=10):\n",
    "    \n",
    "        thread = get_metadata(submission)\n",
    "        json.dump(thread,fout)\n",
    "        fout.write('\\n')"
   ]
  },
  {
   "cell_type": "markdown",
   "metadata": {},
   "source": [
    "Here, you can see that the last five lines:\n",
    "\n",
    "```python\n",
    "with open('askreddit.json', 'w') as fout:\n",
    "    \n",
    "    for submission in subreddit.hot(limit=10):\n",
    "    \n",
    "        thread = get_metadata(submission)\n",
    "        json.dump(thread,fout)\n",
    "        fout.write('\\n')\n",
    "```\n",
    "are the time consuming part of the code where everything happens -- data is extracted from each thread iteratively and then written to a file."
   ]
  },
  {
   "cell_type": "markdown",
   "metadata": {},
   "source": [
    "To speed this up, we can use 10 Python threads, with each thread extracting data from a subreddit thread simultaneously. \n",
    "\n",
    "In order to ensure that all data is saved correctly, we can use an 11th Python thread and a second Queue such that this 11th thread simply takes extracted data from the second Queue and saves it to the file.\n",
    "\n",
    "The code looks like this:\n"
   ]
  },
  {
   "cell_type": "code",
   "execution_count": 3,
   "metadata": {
    "collapsed": false
   },
   "outputs": [
    {
     "name": "stdout",
     "output_type": "stream",
     "text": [
      "Saving For those who had an unplanned threesome or foursome, how did it happen and what did you do? NSFW\n",
      "Saving [Serious] Happily Married couples of Reddit-How do you successfully share the responsibilities of your home?\n",
      "Saving What's the weirdest comment you ever posted when put completely out of context?\n",
      "Saving You hear your parents having sex. Would it be ok to touch yourself? Why?\n",
      "Saving What do guys generally think of girls playing video games?\n",
      "Saving [Serious] Redditors who voted for Trump, do you regret your decision? Why or why not?\n",
      "Saving If your murdered body could not be identified by the usual means such as face, teeth or fingerprints, what is some obscure way a loved one might identify your body?\n",
      "Saving Redditers... why is your life a lie?\n",
      "Saving What turns you on?\n",
      "Saving Would you cold heartedly take the life of one stranger for five billion dollars? Why?/why not?\n"
     ]
    }
   ],
   "source": [
    "import praw\n",
    "import json \n",
    "import threading\n",
    "import queue\n",
    "\n",
    "def get_comments(submission):\n",
    "\n",
    "    comments=[]\n",
    "\n",
    "    submission.comments.replace_more(limit=None)\n",
    "    for comment in submission.comments.list():\n",
    "        data={}\n",
    "        data['body']=comment.body\n",
    "        data['id']=comment.fullname\n",
    "\n",
    "        try:\n",
    "            data['author']=comment.author.name\n",
    "\n",
    "        except AttributeError:\n",
    "            data['author']=comment.author\n",
    "\n",
    "        data['time']=comment.created_utc\n",
    "        data['parent']=comment.parent_id\n",
    "\n",
    "        comments.append(data)\n",
    "\n",
    "    return comments\n",
    "\n",
    "\n",
    "def get_metadata(submission):\n",
    "\n",
    "    thread={}\n",
    "    thread[\"title\"]=submission.title\n",
    "    thread[\"score\"]=submission.score\n",
    "    thread[\"id\"]=submission.id\n",
    "    thread[\"url\"]=submission.url\n",
    "    thread[\"comms_num\"]=submission.num_comments\n",
    "    thread[\"created\"]=submission.created\n",
    "    thread[\"body\"]=submission.selftext\n",
    "    \n",
    "    thread['posts']= get_comments(submission)\n",
    "\n",
    "    return thread\n",
    "\n",
    "\n",
    "def scraper():\n",
    "    while True:\n",
    "        item = q.get()\n",
    "        if item is None:\n",
    "            break\n",
    "        thread = get_metadata(item)\n",
    "        #adding the data to the second queue ready to be saved\n",
    "        q2.put(thread)\n",
    "        q.task_done()\n",
    "\n",
    "        \n",
    "def saver(fname):\n",
    "    while True:\n",
    "        thread = q2.get()\n",
    "        if thread is None:\n",
    "            break\n",
    "        print('Saving {0}'.format(thread['title']))\n",
    "        with open(fname,'a') as f:\n",
    "            json.dump(thread,f)\n",
    "            f.write('\\n')\n",
    "        q2.task_done()\n",
    "        \n",
    "        \n",
    "        \n",
    "with open('reddit_credentials.json') as fin:\n",
    "    \n",
    "    creds = json.load(fin)\n",
    "    \n",
    "\n",
    "reddit = praw.Reddit(user_agent='Comment Extraction (by /u/{0})'.format(creds['username']),\n",
    "                     client_id=creds['client_id'], client_secret=creds['client_secret'],\n",
    "                     username=creds['username'], password=creds['password'])\n",
    "\n",
    "\n",
    "subreddit = reddit.subreddit('AskReddit')\n",
    "\n",
    "q = queue.Queue()\n",
    "q2= queue.Queue()\n",
    "\n",
    "threads = []\n",
    "\n",
    "# creating the file the data will be added to\n",
    "with open('askreddit.json', 'w') as fout:\n",
    "    fout.write('')\n",
    "    \n",
    "#starting 10 scraper threads\n",
    "for i in range(10):\n",
    "    t = threading.Thread(target=scraper)\n",
    "    t.start()\n",
    "    threads.append(t)\n",
    "\n",
    "#starting saver thread\n",
    "t = threading.Thread(target=saver, args=('askreddit.json',))\n",
    "t.start()\n",
    "threads.append(t)\n",
    "\n",
    "\n",
    "#adding submissions (reddit threads) to the first queue\n",
    "for submission in subreddit.rising(limit=10):\n",
    "    q.put(submission)\n",
    "\n",
    "# block first queue until all threads are done\n",
    "q.join()\n",
    "\n",
    "# stop scraper\n",
    "for i in range(10):\n",
    "    q.put(None)\n",
    "    \n",
    "# block second queue until all data is saved    \n",
    "q2.join()\n",
    "q2.put(None)\n",
    "\n",
    "#terminate threads\n",
    "for t in threads:\n",
    "    t.join()\n"
   ]
  },
  {
   "cell_type": "code",
   "execution_count": null,
   "metadata": {
    "collapsed": true
   },
   "outputs": [],
   "source": []
  }
 ],
 "metadata": {
  "kernelspec": {
   "display_name": "Python 3",
   "language": "python",
   "name": "python3"
  },
  "language_info": {
   "codemirror_mode": {
    "name": "ipython",
    "version": 3
   },
   "file_extension": ".py",
   "mimetype": "text/x-python",
   "name": "python",
   "nbconvert_exporter": "python",
   "pygments_lexer": "ipython3",
   "version": "3.7.2"
  }
 },
 "nbformat": 4,
 "nbformat_minor": 0
}
