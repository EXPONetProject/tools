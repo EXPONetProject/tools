{
 "cells": [
  {
   "cell_type": "markdown",
   "metadata": {},
   "source": [
    "# Downloading Article Data from the Guardian API "
   ]
  },
  {
   "cell_type": "markdown",
   "metadata": {},
   "source": [
    "In this tutorial I will demonstrate how Python can be used to query the Guardian's API. "
   ]
  },
  {
   "cell_type": "markdown",
   "metadata": {},
   "source": [
    "### Accessing the API "
   ]
  },
  {
   "cell_type": "markdown",
   "metadata": {},
   "source": [
    "#### Registering for a key "
   ]
  },
  {
   "cell_type": "markdown",
   "metadata": {},
   "source": [
    "The first step to accessing the Guardian's API is to [register as a developer](https://open-platform.theguardian.com/access/) \n",
    "\n",
    "Once registered you will recieve an email contatining an API key which has the form:\n",
    "\n",
    ">a12b345c - 123a - 1234 - a1b2 - 123abcd45ef6\n"
   ]
  },
  {
   "cell_type": "markdown",
   "metadata": {},
   "source": [
    "#### Installing requests and json"
   ]
  },
  {
   "cell_type": "markdown",
   "metadata": {},
   "source": [
    "We will use `requests`, a HTTP library for python, to access and query the API. We will also use the json file format to save the data. Install `requests` and `json` on your machine using `pip`:\n",
    "\n",
    "```\n",
    "pip install requests\n",
    "pip install json\n",
    "```\n"
   ]
  },
  {
   "cell_type": "markdown",
   "metadata": {},
   "source": [
    "#### Using requests to query the API "
   ]
  },
  {
   "cell_type": "markdown",
   "metadata": {},
   "source": [
    "The first step to accessing the Guardian API is to decide which endpoint is most appropriate to use. This will depend on your aims and what you intend to do with the data. \n",
    "\n",
    "The available endpoints are:\n",
    "- Content\n",
    "- Tags\n",
    "- Sections\n",
    "- Editions\n",
    "- Single Item\n",
    "\n",
    "More information about each endpoint is available from the Guardian's [documentation](https://open-platform.theguardian.com/documentation/)."
   ]
  },
  {
   "cell_type": "markdown",
   "metadata": {},
   "source": [
    "In the following I would like to download **all** articles published on 1st January 2018. These articles can have any tag and come from any section or edition therefore I will use the content endpoint. \n",
    "\n",
    "To get started, import `requests` and `json` into `python` and define your endpoint and apikey as strings:"
   ]
  },
  {
   "cell_type": "markdown",
   "metadata": {},
   "source": [
    "``` python\n",
    "\n",
    "import requests as re\n",
    "import json\n",
    "\n",
    "endpoint = 'http://content.guardianapis.com/search'\n",
    "apikey = 'my-api-key'\n",
    "\n",
    "```"
   ]
  },
  {
   "cell_type": "markdown",
   "metadata": {},
   "source": [
    "Here, the string ``'my-api-key'`` should be replaced with your API key."
   ]
  },
  {
   "cell_type": "markdown",
   "metadata": {},
   "source": [
    "Now we need to define the parameters we want to query the API with. A full list of parameters that can be used with the search endpoint is available [here](https://open-platform.theguardian.com/documentation/search).\n",
    "\n",
    "Parameters can be passed to the API by creating a dictionary of the parameters and their values: "
   ]
  },
  {
   "cell_type": "markdown",
   "metadata": {},
   "source": [
    "```python\n",
    "\n",
    "parameters = {\n",
    "    'from-date':'2018-01-01'\n",
    "    'to-date':'2018-01-02'\n",
    "    'show-fields':'body'\n",
    "    'page-size':200\n",
    "    'api-key':apikey\n",
    "}\n",
    "```"
   ]
  },
  {
   "cell_type": "markdown",
   "metadata": {},
   "source": [
    "As I want all articles published on 1st January 2018, I have set the `'from-date'` to `2018-01-01` (note the yyyy-mm-dd format) and the `to-date` to `2018-01-02`. \n",
    "\n",
    "For the `show-fields` parameter, I woud like the body only; this will return the full text of the article. "
   ]
  },
  {
   "cell_type": "markdown",
   "metadata": {},
   "source": [
    "As our endpoint and our parameters are now defined, we can use `requests` to query the API.\n",
    "\n",
    "In the above dictionary you will see that the `page-size` is set to 200. This means that only 200 results will be returned per page and therefore, in the case that the total number of results is greater than 200, we need to loop through all of the pages to download all of the data.\n",
    "\n",
    "We can do this by defining two variables, `current_page`, the page that is currently being browsed, and `pages`, the total number of pages returned by the query. We can then loop through the pages by incrementing `current_page` until it equals `pages`.\n",
    "\n",
    "When the data from each page is downloaded it needs to be both stored and saved. To store the data we can define an array `data`. To save the data we use `json` to save the data to a file called `fname`."
   ]
  },
  {
   "cell_type": "markdown",
   "metadata": {},
   "source": [
    "```python\n",
    "data=[]\n",
    "\n",
    "current_page=1\n",
    "pages=1\n",
    "\n",
    "fname='guardian_data'\n",
    "\n",
    "while current_page<=pages:\n",
    "    \n",
    "    parameters['page'] = current_page\n",
    "    r=requests.get(endpoint, parameters).json()\n",
    "    data.extend(r['response']['results'])\n",
    "    pages=data['response']['pages']\n",
    "    current_page+=1\n",
    "    \n",
    "    with open(fname,'w') as f:\n",
    "        f.write(json.dump(data))\n",
    "        \n",
    "```\n",
    "    "
   ]
  },
  {
   "cell_type": "markdown",
   "metadata": {},
   "source": [
    "You will notice that initially, the values of `current_page` and `pages` are both 1. This ensures that one iteration of the while loop is performed. The value of `pages` will be updated to its true value during this first loop."
   ]
  },
  {
   "cell_type": "markdown",
   "metadata": {},
   "source": [
    "Lets look at the while loop. The first line:\n",
    "\n",
    "```python\n",
    "parameters['page'] = current_page\n",
    "```\n",
    "sets the parameter `page` in our paremeter dictionary to the value of `current_page`. \n",
    "\n",
    "The second line:\n",
    "\n",
    "```python\n",
    "r = requests.get(endpoint,parameters).json()\n",
    "```\n",
    "uses the `requests` library to access the Guardian's API, located at `endpoint`, and passes the parameters defined in our dictionary `parameters`. Adding `.json()` to the end of the `get` function ensures that the results, `r`, returned by the API are in a `json` file format.\n",
    "\n",
    "The third line:\n",
    "```python\n",
    "data.extend(r['response']['results']) \n",
    "```\n",
    "adds the results from the current page to our array `data`.\n",
    "\n",
    "The next two lines:\n",
    "```python\n",
    "pages=data['response']['pages']\n",
    "current_page+=1\n",
    "```\n",
    "update the value of `pages` to the number of pages returned by the query and increases the value of `current_pages` by one.\n",
    "\n",
    "The final two lines:\n",
    "```python\n",
    "with open(fname,'w') as f:\n",
    "    f.write(json.dump(data))\n",
    "```\n",
    "open a file named `fname` for writing the data to. Our array `data` is then saved to this file.\n",
    "\n",
    "Providing the value of `current_page` is less than or equal to `pages`, these steps will be repeated ensuring that all data returned by the query is saved to our file."
   ]
  },
  {
   "cell_type": "markdown",
   "metadata": {},
   "source": [
    "### All together "
   ]
  },
  {
   "cell_type": "markdown",
   "metadata": {},
   "source": [
    "```python\n",
    "import requests as re\n",
    "import json\n",
    "\n",
    "endpoint = 'http://content.guardianapis.com/search'\n",
    "apikey = 'my-api-key'\n",
    "\n",
    "parameters = {\n",
    "    'from-date':'2018-01-01'\n",
    "    'to-date':'2018-01-02'\n",
    "    'show-fields':'body'\n",
    "    'page-size':200\n",
    "    'api-key':apikey\n",
    "}\n",
    "\n",
    "data=[]\n",
    "\n",
    "current_page=1\n",
    "pages=1\n",
    "\n",
    "fname='guardian_data'\n",
    "\n",
    "while current_page<=pages:\n",
    "\n",
    "    parameters['page'] = current_page\n",
    "    r=requests.get(endpoint, parameters).json()\n",
    "    data.extend(r['response']['results'])\n",
    "    pages=data['response']['pages']\n",
    "    current_page+=1\n",
    "\n",
    "    with open(fname,'w') as f:\n",
    "        f.write(json.dump(data))\n",
    "        \n",
    "```"
   ]
  },
  {
   "cell_type": "markdown",
   "metadata": {},
   "source": [
    "### Exploring the data "
   ]
  },
  {
   "cell_type": "markdown",
   "metadata": {},
   "source": [
    "The file you now have, `data`, can be used as a python dictionary \\- it is in fact an array of dictionaries. \n",
    "\n",
    "Lets look at the first entry:"
   ]
  },
  {
   "cell_type": "markdown",
   "metadata": {},
   "source": [
    "```python\n",
    "data[0]\n",
    "```"
   ]
  },
  {
   "cell_type": "raw",
   "metadata": {},
   "source": [
    "[{u'apiUrl': u'https://content.guardianapis.com/football/2018/jan/02/southampton-crystal-palace-premier-league-match-report',\n",
    "  u'fields': {u'body': u'<p>Luka Milivojevic\\u2019s 2018 began rather better than his 2017 ended: on New Year\\u2019s Eve he cost Crystal Palace a victory by missing <a href=\"https://www.theguardian.com/football/2017/dec/31/crystal-palace-manchester-city-premier-league-match-report\" title=\"\">a penalty against Manchester City</a> but 48 hours later he sealed three points with a beautiful late winner at Southampton.</p> <p>Ralph Kreuger, the Southampton chairman, backed Mauricio Pellegrino this week but the manager\\u2019s prospects looked as dark as the weather after this defeat, with the home crowd losing what little patience remained as Saints were beaten despite taking the lead through Shane Long\\u2019s first goal in nearly a year. James McArthur equalised, before Milivojevic\\u2019s delicate shot from the edge of the box earned Palace the points.</p> <aside class=\"element element-rich-link element--thumbnail\"> <p> <span>Related: </span><a href=\"https://www.theguardian.com/football/2018/jan/02/manchester-city-watford-premier-league-match-report\">Manchester City put Watford to sword after Raheem Sterling\\u2019s rapid opener</a> </p> </aside>  <p>Roy Hodgson expressed pleasure with Palace\\u2019s form. \\u201cFor any team in this league, if you can look back on 11 games and the only one you\\u2019ve lost is to Arsenal, that\\u2019s very satisfying,\\u201d he said. \\u201cWhen you start as badly as we did, there\\u2019s only as many blows you can take. After seven games we were pretty much on the canvas.\\u201d</p> <p>They are up and punching now. This victory provided a handy marker for how far Palace have come under Hodgson. His first game in charge was <a href=\"https://www.theguardian.com/football/2017/sep/16/crystal-palace-southampton-premier-league-match-report\" title=\"\">against Southampton at home in September</a>, when a Steven Davis goal condemned them to their fifth straight defeat without scoring a goal. Now they are 14th and, while in no way safe, things are looking up.</p> <p>The same cannot be said for Southampton. Palace have gained 11 points from losing positions since Hodgson arrived but in the same time Pellegrino\\u2019s side have dropped nine after being in front. The way they folded after the break would be even more concerning if it was surprising, but that has been a feature of their play under the Argentinian.</p> <p>\\u201cIn the second-half we gave them the possibility to be in the game,\\u201d Pellegrino said. \\u201cWe played five metres deeper \\u2013 I think it\\u2019s the lack of confidence in the players. We didn\\u2019t have the intention to go forwards, we just had the intention to pass the time.\\u201d</p> <p>He was asked whether he feared for his job. \\u201cI feel fear for other things, not football. I\\u2019m disappointed that we lost but not fear.\\u201d</p> <p>It was looking pretty good for a while. That Long was the scorer of Southampton\\u2019s opener suggested it might be their night. This is not to unfairly question the striker\\u2019s abilities but it was his first competitive goal since 11 February last year, thumping Jeremy Pied\\u2019s low cross into the bottom corner with the certainty one does not associate with a player who had not scored for 324 days.</p> <aside class=\"element element-rich-link element--thumbnail\"> <p> <span>Related: </span><a href=\"https://www.theguardian.com/football/2018/jan/02/swansea-city-tottenham-hotspur-premier-league-match-report\">Fernando Llorente pushes Swansea deeper into trouble as Tottenham win</a> </p> </aside>  <p>As the rain, wind and an already choppy pitch worsened, the visitors improved. Palace, playing their third game in six days and 48 hours after that exhilarating, exhausting performance against City, grew in confidence and endeavour and they equalised after 69 minutes, although the goal probably should not have stood. Andros Townsend clipped a nice cross into the middle, where Christian Benteke was half a yard offside as he knocked it down, but the linesman stayed still as McArthur hammered the ball into the roof of the net.</p> <p>Pellegrino made attacking changes, bringing on Manolo Gabbiadini and Nathan Redmond but it was Palace who scored next. Townsend and the substitute Bakary Sako combined nicely on the right, the former slid a pass to Milivojevic on the edge of the area and he measured a delicate finish into the bottom corner.</p> <p>Boos rang out and both sets of fans sang that Pellegrino would not be Saints manager for much longer. They might be right.</p>'},\n",
    "  u'id': u'football/2018/jan/02/southampton-crystal-palace-premier-league-match-report',\n",
    "  u'isHosted': False,\n",
    "  u'pillarId': u'pillar/sport',\n",
    "  u'pillarName': u'Sport',\n",
    "  u'sectionId': u'football',\n",
    "  u'sectionName': u'Football',\n",
    "  u'type': u'article',\n",
    "  u'webPublicationDate': u'2018-01-02T23:53:00Z',\n",
    "  u'webTitle': u'Luka Milivojevic seals Crystal Palace fightback to leave Southampton in danger',\n",
    "  u'webUrl': u'https://www.theguardian.com/football/2018/jan/02/southampton-crystal-palace-premier-league-match-report'}]"
   ]
  },
  {
   "cell_type": "markdown",
   "metadata": {},
   "source": [
    "Displaying the keys using \n",
    "```python\n",
    "data[0].keys()\n",
    "```\n",
    "we have:"
   ]
  },
  {
   "cell_type": "raw",
   "metadata": {},
   "source": [
    "[u'pillarId',\n",
    " u'sectionId',\n",
    " u'webTitle',\n",
    " u'fields',\n",
    " u'webUrl',\n",
    " u'id',\n",
    " u'isHosted',\n",
    " u'webPublicationDate',\n",
    " u'type',\n",
    " u'sectionName',\n",
    " u'apiUrl',\n",
    " u'pillarName']"
   ]
  },
  {
   "cell_type": "markdown",
   "metadata": {},
   "source": [
    "So entering:\n",
    "```python\n",
    "data[0]['webUrl']\n",
    "```\n",
    "returns the web address of the first article in `data`. Likewise, entering:\n",
    "```python\n",
    "data[0]['fields']['body']\n",
    "```\n",
    "will return the full text of the article."
   ]
  },
  {
   "cell_type": "markdown",
   "metadata": {},
   "source": [
    "### Finally..."
   ]
  },
  {
   "cell_type": "markdown",
   "metadata": {},
   "source": [
    "If you are interested in obtaining comments from the articles you have in `data`, save the urls to a list, installing numpy if you need to (`pip install numpy`):\n",
    "```python\n",
    "import numpy as np\n",
    "urls=[record['webUrl'] for record in data]\n",
    "np.savetxt(fname+'urls.txt',urls,'%s')\n",
    "```\n",
    "and take a look at the tutorial [Scraping comments from the Guardian using BeautifulSoup](Scraping_comments_from_the_Guardian_using_BeautifulSoup.ipynb)"
   ]
  }
 ],
 "metadata": {
  "kernelspec": {
   "display_name": "Python 3",
   "language": "python",
   "name": "python3"
  },
  "language_info": {
   "codemirror_mode": {
    "name": "ipython",
    "version": 3
   },
   "file_extension": ".py",
   "mimetype": "text/x-python",
   "name": "python",
   "nbconvert_exporter": "python",
   "pygments_lexer": "ipython3",
   "version": "3.7.2"
  }
 },
 "nbformat": 4,
 "nbformat_minor": 2
}
