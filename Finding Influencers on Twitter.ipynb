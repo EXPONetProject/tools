{
 "cells": [
  {
   "cell_type": "markdown",
   "metadata": {},
   "source": [
    "### Defining Influence "
   ]
  },
  {
   "cell_type": "markdown",
   "metadata": {},
   "source": [
    "Definitions of influence measures (ways to assess whether someone is seen as an expert) taken from [here](https://www.aaai.org/ocs/index.php/ICWSM/ICWSM10/paper/viewFile/1538/1826)\n",
    "\n",
    "1. **Indegree influence** the number of followers of a user - directly indicates the size of the audience for that user.\n",
    "\n",
    "2. **Retweet influence** the number of retweets containing one’s name - indicates the ability of that user to generate content with pass-along value.\n",
    "\n",
    "3. **Mention influence** the number of mentions containing one’s name - indicates the ability of that user to engage others in a conversation."
   ]
  },
  {
   "cell_type": "markdown",
   "metadata": {},
   "source": [
    "### Reducing the dataset"
   ]
  },
  {
   "cell_type": "markdown",
   "metadata": {},
   "source": [
    "Having accessed the Twitter API and collected tweets, it is likely the file containing this data is large. Rather than reading the whole file into memory we can read it line by line, and extract only the data we need.\n",
    "\n",
    "Here we will use a dataset containing all tweets that used the hashtag #GE2015 during the 2015 British Election period. \n",
    "\n",
    "We choose to save the extracted data to .json files which will be smaller in size and easier to handle"
   ]
  },
  {
   "cell_type": "code",
   "execution_count": 4,
   "metadata": {
    "collapsed": true
   },
   "outputs": [],
   "source": [
    "import json\n",
    "\n",
    "with open('ge2015_tweets.json') as fin:\n",
    "    with open('body.json', 'w') as fout1:\n",
    "        with open('actor.json','w') as fout2:\n",
    "            with open('user_mentions.json','w') as fout3:\n",
    "                for line in fin:\n",
    "                    obj = json.loads(line)\n",
    "                    actor = obj['actor']\n",
    "                    body = obj['body']\n",
    "                    users = obj['twitter_entities']['user_mentions']\n",
    "                    name = actor['preferredUsername']\n",
    "\n",
    "\n",
    "                    json.dump((name,obj['object']['postedTime'],body), fout1)\n",
    "                    fout1.write('\\n')\n",
    "\n",
    "                    json.dump(actor, fout2)\n",
    "                    fout2.write('\\n')\n",
    "\n",
    "                    json.dump(users, fout3)\n",
    "                    fout3.write('\\n')"
   ]
  },
  {
   "cell_type": "markdown",
   "metadata": {},
   "source": [
    "### Extracting influence measures from the reduced data "
   ]
  },
  {
   "cell_type": "markdown",
   "metadata": {},
   "source": [
    "#### Indegree influence "
   ]
  },
  {
   "cell_type": "markdown",
   "metadata": {},
   "source": [
    "Here we loop through each tweet (or line) in the file `actor.json` and extract the username and number of followers of the user who posted the tweet.\n",
    "\n",
    "We create a dictionary `indegree` where the username is the key and the number of followers is the value."
   ]
  },
  {
   "cell_type": "code",
   "execution_count": 5,
   "metadata": {
    "collapsed": true
   },
   "outputs": [],
   "source": [
    "indegree={}\n",
    "\n",
    "with open('actor.json') as fin1:\n",
    "    for line1 in fin1:\n",
    "        obj=json.loads(line1)\n",
    "        wanted = obj['followersCount']\n",
    "        name = obj['preferredUsername']\n",
    "        indegree[name] = wanted"
   ]
  },
  {
   "cell_type": "markdown",
   "metadata": {},
   "source": [
    "#### Retweet influence "
   ]
  },
  {
   "cell_type": "markdown",
   "metadata": {},
   "source": [
    "To determine the retweet influence we loop through all tweets to find the retweets. A retweet will start with the text `RT` followed by `@user` where user corresponds to the username of the person who wrote the original tweet.\n",
    "\n",
    "When a retweet is found, the retweet count for `user` is incremented by 1. The dictionary `retweet` contains a count of the number of times a `user` has been retweeted."
   ]
  },
  {
   "cell_type": "code",
   "execution_count": 6,
   "metadata": {
    "collapsed": true
   },
   "outputs": [],
   "source": [
    "retweet={}\n",
    "\n",
    "for k,v in indegree.items():\n",
    "    retweet[k]=0\n",
    "    \n",
    "with open('body.json') as fin2:\n",
    "    for line2 in fin2:\n",
    "        body=json.loads(line2)\n",
    "        name=body[0]\n",
    "        if list(body[2])[:3]==['R','T',' ']:\n",
    "            try:\n",
    "                user = body[2].split(' ')[1].split('@')[1].split(':')[0]\n",
    "                try:\n",
    "                    retweet[user]+=1\n",
    "                except KeyError:\n",
    "                    continue\n",
    "            except IndexError:\n",
    "                continue"
   ]
  },
  {
   "cell_type": "markdown",
   "metadata": {},
   "source": [
    "#### Mention influence "
   ]
  },
  {
   "cell_type": "markdown",
   "metadata": {},
   "source": [
    "The mention influence of a user is the number of times the user is mentioned by others. To determine this, we loop through the file `user_mentions.json`, in which each line contains a list of users mentioned in a single tweet. \n",
    "\n",
    "Looping through this list, if each user that is mentioned, if they have also posted a tweet themselves then their count is incremented by 1. The dictionary `mentions` contains a count the number of times each user has been mentioned by others."
   ]
  },
  {
   "cell_type": "code",
   "execution_count": 7,
   "metadata": {
    "collapsed": true
   },
   "outputs": [],
   "source": [
    "mentions={}\n",
    "\n",
    "for k,v in indegree.items():\n",
    "    mentions[k]=0\n",
    "\n",
    "with open('user_mentions.json') as fin3:\n",
    "    for line3 in fin3:\n",
    "        tweets=json.loads(line3)\n",
    "        if len(tweets)==0:\n",
    "            continue\n",
    "        for item in tweets:\n",
    "            user = item['screen_name']\n",
    "            try:\n",
    "                mentions[user]+=1\n",
    "            except KeyError:\n",
    "                continue"
   ]
  },
  {
   "cell_type": "markdown",
   "metadata": {},
   "source": [
    "### The influence score "
   ]
  },
  {
   "cell_type": "markdown",
   "metadata": {},
   "source": [
    "With these three measures of influence, we can assign each user an influence score by ranking a user on each of the measures.\n",
    "\n",
    "We use the convention that a low rank (or low number) corresponds to little influence, with 0 being the lowest rank possible, and a high rank (or high number) corresponds to a large amount of influence."
   ]
  },
  {
   "cell_type": "code",
   "execution_count": 8,
   "metadata": {
    "collapsed": true
   },
   "outputs": [],
   "source": [
    "mention_rank, retweet_rank, indegree_rank = {},{},{}\n",
    "\n",
    "mk, mv = zip(*sorted(mentions.items(), key=lambda kv: (kv[1], kv[0])))\n",
    "rk, rv = zip(*sorted(retweet.items(), key=lambda kv: (kv[1], kv[0])))\n",
    "ik, iv = zip(*sorted(indegree.items(), key=lambda kv: (kv[1], kv[0])))\n",
    "\n",
    "for rank in range(len(mentions)):\n",
    "\n",
    "    mention_rank[mk[rank]] = rank\n",
    "    retweet_rank[rk[rank]] = rank\n",
    "    indegree_rank[ik[rank]] = rank\n",
    " "
   ]
  },
  {
   "cell_type": "markdown",
   "metadata": {},
   "source": [
    "Using this convention, we determine the mean rank of a user over the three measures to obtain a final influence score."
   ]
  },
  {
   "cell_type": "code",
   "execution_count": 11,
   "metadata": {
    "collapsed": false
   },
   "outputs": [],
   "source": [
    "import numpy as np\n",
    "influence_score={}\n",
    "for user in indegree:\n",
    "    influence_score[user]=np.mean([mention_rank[user], retweet_rank[user], indegree_rank[user]])"
   ]
  },
  {
   "cell_type": "markdown",
   "metadata": {},
   "source": [
    "And we can look at the most influential twitter users...."
   ]
  },
  {
   "cell_type": "code",
   "execution_count": 15,
   "metadata": {
    "collapsed": false
   },
   "outputs": [
    {
     "name": "stdout",
     "output_type": "stream",
     "text": [
      "('SkyNewsBreak', 'Telegraph', 'itvnews', 'FT', 'Independent', 'TheEconomist', 'guardian', 'SkyNews', 'BBCNews', 'BBCBreaking')\n"
     ]
    }
   ],
   "source": [
    "usernames, scores = zip(*sorted(influence_score.items(), key=lambda kv: (kv[1], kv[0])))\n",
    "\n",
    "print(usernames[-10:])"
   ]
  },
  {
   "cell_type": "markdown",
   "metadata": {},
   "source": [
    "As we are using tweets with the hashtag #GE2015, the fact that the most influential users are news outlets is not suprising!"
   ]
  },
  {
   "cell_type": "code",
   "execution_count": null,
   "metadata": {
    "collapsed": true
   },
   "outputs": [],
   "source": []
  }
 ],
 "metadata": {
  "kernelspec": {
   "display_name": "Python 3",
   "language": "python",
   "name": "python3"
  },
  "language_info": {
   "codemirror_mode": {
    "name": "ipython",
    "version": 3
   },
   "file_extension": ".py",
   "mimetype": "text/x-python",
   "name": "python",
   "nbconvert_exporter": "python",
   "pygments_lexer": "ipython3",
   "version": "3.7.2"
  }
 },
 "nbformat": 4,
 "nbformat_minor": 0
}
